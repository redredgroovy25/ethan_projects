{
 "cells": [
  {
   "cell_type": "markdown",
   "id": "e234eac3",
   "metadata": {},
   "source": [
    "# Ethan Hunts for some Prime Numbers\n",
    "\n",
    "This notebook will help us understand how to break down the problem of finding prime numbers.\n",
    "\n",
    "At the end of this notebook, we will have created a program that will find all of the prime numbers between any two numbers entered by a user.\n",
    "\n",
    "But first, here are some helpful libraries that you can import for aiding you in solving this problem!  "
   ]
  },
  {
   "cell_type": "code",
   "execution_count": 24,
   "id": "bed0c54e",
   "metadata": {},
   "outputs": [],
   "source": [
    "import time     # this will help us later when we want to make our program faster\n",
    "import math     # this is a library that helps us with basic math functions\n",
    "import pandas   # and this helps us with using dataframes to capture our results\n"
   ]
  },
  {
   "cell_type": "markdown",
   "id": "17152e12",
   "metadata": {},
   "source": [
    "1. Is B a factor of A? Create a python function that asks the user for two numbers, A and B, and then tells the user if B is a factor of A.\n",
    "\n",
    "For example:\n",
    "A=12, B=4 : 4 is a factor of 12\n",
    "A=12, B=5 : 5 is NOT a factor 12\n"
   ]
  },
  {
   "cell_type": "markdown",
   "id": "edad3a97",
   "metadata": {},
   "source": [
    "## Step 1:  Factor Checker\n",
    "First, let's define a function that take in two integer numbers as input and returns 'True' if the second number is the factor of the first number and 'False' if it is not.\n",
    "You can use the % operator to check this.    \n",
    "\n",
    "In the math library, you can use the '%' to return the remainder when you divide one number by another.  If you get a '0' as the answer, you know that there is no remainder, so you know that one number is a factor of the other.\n",
    "\n",
    "There are other ways of determining if one number is divisible by another, but this is by far the easiest way!"
   ]
  },
  {
   "cell_type": "code",
   "execution_count": 25,
   "id": "5b02b2ba",
   "metadata": {},
   "outputs": [],
   "source": [
    "#now you give it a try!  call the function  'find_factor'\n",
    "\n"
   ]
  },
  {
   "cell_type": "code",
   "execution_count": 26,
   "id": "19a31d86",
   "metadata": {},
   "outputs": [],
   "source": [
    "#hint\n",
    "def find_factor(first_num, second_num):\n",
    "    is_factor = False\n",
    "    if first_num % second_num ==0:\n",
    "        is_factor = True\n",
    "    return(is_factor)\n",
    "        "
   ]
  },
  {
   "cell_type": "code",
   "execution_count": 27,
   "id": "3afe1613",
   "metadata": {},
   "outputs": [
    {
     "data": {
      "text/plain": [
       "False"
      ]
     },
     "execution_count": 27,
     "metadata": {},
     "output_type": "execute_result"
    }
   ],
   "source": [
    "# now let's try it out with some numbers we define.\n",
    "\n",
    "n1 = 12\n",
    "n2 = 5      # change this number to a factor of 12 and re-run this.\n",
    "\n",
    "is_factor = find_factor(n1,n2)\n",
    "\n",
    "is_factor\n"
   ]
  },
  {
   "cell_type": "markdown",
   "id": "4bb99f34",
   "metadata": {},
   "source": [
    "## Step 2:  Ask user for inputs to check\n",
    "For our next step, we will need to ask the user to input the first and second numbers! "
   ]
  },
  {
   "cell_type": "code",
   "execution_count": 28,
   "id": "c309410b",
   "metadata": {},
   "outputs": [],
   "source": [
    "# to get two numbers as input, you need to use the 'input' function to set your two variables. \n",
    "# give this a try."
   ]
  },
  {
   "cell_type": "code",
   "execution_count": 29,
   "id": "ba1c3be1",
   "metadata": {},
   "outputs": [
    {
     "name": "stdout",
     "output_type": "stream",
     "text": [
      "Check if one number is a factor of the other. First, enter the larger number.\n",
      "12\n",
      "Now enter the smaller number that you would like to check is the factor of the larger number.\n",
      "4\n"
     ]
    }
   ],
   "source": [
    "#hint\n",
    "\n",
    "print('Check if one number is a factor of the other. First, enter the larger number.')\n",
    "n1 = input()\n",
    "print('Now enter the smaller number that you would like to check is the factor of the larger number.')\n",
    "n2 = input()\n",
    "\n",
    "# now you can use the find_factors function you defined in the first step"
   ]
  },
  {
   "cell_type": "markdown",
   "id": "2df3df91",
   "metadata": {},
   "source": [
    "## Step 3:  Determine if a number is a prime number\n",
    "\n",
    "We all know what a prime number is --  it is only divisible by itself and 1 -- in other words, its only two factors are itself and 1.\n",
    "\n",
    "So to find if a number is a prime number, we need to check all the numbers that could be factors of that number.\n",
    "\n",
    "Set a count variable to 0 -- this is your count of factors for the number you are checking.\n",
    "\n",
    "Then create a for loop and check every number from 1 to the number you are checking and finds out if the number is a factor of the number you are checking.\n",
    "\n",
    "If the number is a factor, then you increment your count variable.\n",
    "\n",
    "\n",
    "After all this, you should check the count.  If the count is greater than 2, then you know the number is not a prime number!\n",
    "\n"
   ]
  },
  {
   "cell_type": "code",
   "execution_count": null,
   "id": "d94a73ae",
   "metadata": {},
   "outputs": [],
   "source": []
  },
  {
   "cell_type": "code",
   "execution_count": 15,
   "id": "87e5dec6",
   "metadata": {},
   "outputs": [
    {
     "name": "stdout",
     "output_type": "stream",
     "text": [
      "prime number,  2  factors found\n"
     ]
    }
   ],
   "source": [
    "# hint \n",
    "\n",
    "count = 0\n",
    "\n",
    "test_num = 547   # i'm just picking a random number to try out.\n",
    "\n",
    "for i in range(1, test_num+1):        \n",
    "    if find_factor(test_num, i):\n",
    "        count+=1\n",
    "        \n",
    "if count >2:\n",
    "    print('not a prime, ',count,' factors found')\n",
    "else:\n",
    "    print('prime number, ',count,' factors found')\n",
    "\n",
    "\n"
   ]
  },
  {
   "cell_type": "markdown",
   "id": "1b6858eb",
   "metadata": {},
   "source": [
    "## Step 4:  Let's put all of this together now.\n",
    "\n",
    "We have the ability to find whether something is a prime number.\n",
    "\n",
    "Now, let's ask the user to input a range of numbers that they would like to find prime numbers within.   Why don't we re-purpose the code we wrote in step 2 to ask the user for a lower and upper number for the range!\n",
    "\n",
    "Then, for each number in the range that the user has requested, we need to do the factor test that we wrote in step 3.\n"
   ]
  },
  {
   "cell_type": "code",
   "execution_count": null,
   "id": "d0f88712",
   "metadata": {},
   "outputs": [],
   "source": [
    "# i'll give you the firsst part where you ask the user for the numbers, as it is a bit fiddly.\n",
    "\n",
    "print('Enter the lower number of the range you would like to check.')\n",
    "n1 = int(input())\n",
    "print('Now enter the upper number of the range you would like to check.')\n",
    "n2 = int(input())\n",
    "\n",
    "# remember the n1 is the lower number of the range and n2 is the upper number of the range.\n",
    "\n",
    "# now, you need to go through each number in the range and check all of its factors \n",
    "# using the code you wrote in Step 3\n",
    "\n"
   ]
  },
  {
   "cell_type": "code",
   "execution_count": 30,
   "id": "ee0d8aa6",
   "metadata": {},
   "outputs": [
    {
     "name": "stdout",
     "output_type": "stream",
     "text": [
      "Enter the lower number of the range you would like to check.\n",
      "1\n",
      "Now enter the upper number of the range you would like to check.\n",
      "550\n",
      "2\n",
      "3\n",
      "5\n",
      "7\n",
      "11\n",
      "13\n",
      "17\n",
      "19\n",
      "23\n",
      "29\n",
      "31\n",
      "37\n",
      "41\n",
      "43\n",
      "47\n",
      "53\n",
      "59\n",
      "61\n",
      "67\n",
      "71\n",
      "73\n",
      "79\n",
      "83\n",
      "89\n",
      "97\n",
      "101\n",
      "103\n",
      "107\n",
      "109\n",
      "113\n",
      "127\n",
      "131\n",
      "137\n",
      "139\n",
      "149\n",
      "151\n",
      "157\n",
      "163\n",
      "167\n",
      "173\n",
      "179\n",
      "181\n",
      "191\n",
      "193\n",
      "197\n",
      "199\n",
      "211\n",
      "223\n",
      "227\n",
      "229\n",
      "233\n",
      "239\n",
      "241\n",
      "251\n",
      "257\n",
      "263\n",
      "269\n",
      "271\n",
      "277\n",
      "281\n",
      "283\n",
      "293\n",
      "307\n",
      "311\n",
      "313\n",
      "317\n",
      "331\n",
      "337\n",
      "347\n",
      "349\n",
      "353\n",
      "359\n",
      "367\n",
      "373\n",
      "379\n",
      "383\n",
      "389\n",
      "397\n",
      "401\n",
      "409\n",
      "419\n",
      "421\n",
      "431\n",
      "433\n",
      "439\n",
      "443\n",
      "449\n",
      "457\n",
      "461\n",
      "463\n",
      "467\n",
      "479\n",
      "487\n",
      "491\n",
      "499\n",
      "503\n",
      "509\n",
      "521\n",
      "523\n",
      "541\n",
      "547\n"
     ]
    }
   ],
   "source": [
    "# hint\n",
    "\n",
    "print('Enter the lower number of the range you would like to check.')\n",
    "n1 = int(input())\n",
    "print('Now enter the upper number of the range you would like to check.')\n",
    "n2 = int(input())\n",
    "\n",
    "for j in range(n1,n2+1):   #testing each of the numbers in the range the user wants to check\n",
    "    count = 0\n",
    "    for i in range(1, j+1):    # doing the prime check for that particular number in the range  \n",
    "        if find_factor(j,i):\n",
    "            count+=1\n",
    "    if count ==2:\n",
    "        print(j)\n",
    "    \n",
    "\n"
   ]
  },
  {
   "cell_type": "code",
   "execution_count": null,
   "id": "7d650989",
   "metadata": {},
   "outputs": [],
   "source": []
  }
 ],
 "metadata": {
  "kernelspec": {
   "display_name": "Python 3 (ipykernel)",
   "language": "python",
   "name": "python3"
  },
  "language_info": {
   "codemirror_mode": {
    "name": "ipython",
    "version": 3
   },
   "file_extension": ".py",
   "mimetype": "text/x-python",
   "name": "python",
   "nbconvert_exporter": "python",
   "pygments_lexer": "ipython3",
   "version": "3.9.13"
  }
 },
 "nbformat": 4,
 "nbformat_minor": 5
}
