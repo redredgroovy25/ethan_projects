{
 "cells": [
  {
   "cell_type": "markdown",
   "id": "e234eac3",
   "metadata": {},
   "source": [
    "# Ethan Hunts for some Prime Numbers\n",
    "\n",
    "This notebook will help us understand how to break down the problem of finding prime numbers.\n",
    "\n",
    "At the end of this notebook, we will have created a program that will find all of the prime numbers between any two numbers entered by a user.\n",
    "\n",
    "But first, here are some helpful libraries that you can import for aiding you in solving this problem!  "
   ]
  },
  {
   "cell_type": "code",
   "execution_count": 31,
   "id": "bed0c54e",
   "metadata": {},
   "outputs": [],
   "source": [
    "import time     # this will help us later when we want to make our program faster\n",
    "import math     # this is a library that helps us with basic math functions\n",
    "import pandas   # and this helps us with using dataframes to capture our results\n"
   ]
  },
  {
   "cell_type": "markdown",
   "id": "17152e12",
   "metadata": {},
   "source": [
    "1. Is B a factor of A? Create a python function that asks the user for two numbers, A and B, and then tells the user if B is a factor of A.\n",
    "\n",
    "For example:\n",
    "A=12, B=4 : 4 is a factor of 12\n",
    "A=12, B=5 : 5 is NOT a factor 12\n"
   ]
  },
  {
   "cell_type": "markdown",
   "id": "edad3a97",
   "metadata": {},
   "source": [
    "## Step 1:  Factor Checker\n",
    "First, let's define a function that take in two integer numbers as input and returns 'True' if the second number is the factor of the first number and 'False' if it is not.\n",
    "You can use the % operator to check this.    \n",
    "\n",
    "In the math library, you can use the '%' to return the remainder when you divide one number by another.  If you get a '0' as the answer, you know that there is no remainder, so you know that one number is a factor of the other.\n",
    "\n",
    "There are other ways of determining if one number is divisible by another, but this is by far the easiest way!"
   ]
  },
  {
   "cell_type": "code",
   "execution_count": 34,
   "id": "5b02b2ba",
   "metadata": {},
   "outputs": [],
   "source": [
    "#now you give it a try!  call the function  'find_factor'  (find out if n2 is a factor of n1)\n",
    "def find_factor(n1,n2):\n",
    "    \n"
   ]
  },
  {
   "cell_type": "code",
   "execution_count": 33,
   "id": "3afe1613",
   "metadata": {},
   "outputs": [
    {
     "data": {
      "text/plain": [
       "False"
      ]
     },
     "execution_count": 33,
     "metadata": {},
     "output_type": "execute_result"
    }
   ],
   "source": [
    "# now let's try it out with some numbers we define.\n",
    "\n",
    "n1 = 12\n",
    "n2 = 5      # change this number to a factor of 12 and re-run this.\n",
    "\n",
    "is_factor = find_factor(n1,n2)\n",
    "\n",
    "is_factor\n"
   ]
  },
  {
   "cell_type": "markdown",
   "id": "2df3df91",
   "metadata": {},
   "source": [
    "## Step 2:  Determine if a number is a prime number\n",
    "\n",
    "We all know what a prime number is --  it is only divisible by itself and 1 -- in other words, its only two factors are itself and 1.\n",
    "\n",
    "So to find if a number is a prime number, we need to check all the numbers that could be factors of that number.\n",
    "\n",
    "Set a count variable to 0 -- this is your count of factors for the number you are checking.\n",
    "\n",
    "Then create a for loop and check every number from 1 to the number you are checking and finds out if the number is a factor of the number you are checking.\n",
    "\n",
    "If the number is a factor, then you increment your count variable.\n",
    "\n",
    "\n",
    "After all this, you should check the count.  If the count is greater than 2, then you know the number is not a prime number!\n",
    "\n"
   ]
  },
  {
   "cell_type": "code",
   "execution_count": null,
   "id": "d94a73ae",
   "metadata": {},
   "outputs": [],
   "source": []
  },
  {
   "cell_type": "markdown",
   "id": "7f3eaed8",
   "metadata": {},
   "source": [
    "### Step 3:  Let's put all of this together now.\n",
    "\n",
    "We have the ability to find whether something is a prime number.\n",
    "\n",
    "Now, let's ask the user to input a range of numbers that they would like to find prime numbers within.  \n",
    "\n",
    "Then, for each number in the range that the user has requested, we need to do the factor test that we wrote in step 2.\n"
   ]
  },
  {
   "cell_type": "code",
   "execution_count": null,
   "id": "a3fddc13",
   "metadata": {},
   "outputs": [],
   "source": [
    "# i'll give you the first part where you ask the user for the numbers, as it is a bit fiddly.\n",
    "\n",
    "print('Enter the lower number of the range you would like to check.')\n",
    "n1 = int(input())\n",
    "print('Now enter the upper number of the range you would like to check.')\n",
    "n2 = int(input())\n",
    "\n",
    "# remember the n1 is the lower number of the range and n2 is the upper number of the range.\n",
    "\n",
    "# now, you need to go through each number in the range and check all of its factors \n",
    "# using the code you wrote in Step 3\n",
    "\n"
   ]
  },
  {
   "cell_type": "code",
   "execution_count": null,
   "id": "7d650989",
   "metadata": {},
   "outputs": [],
   "source": []
  }
 ],
 "metadata": {
  "kernelspec": {
   "display_name": "Python 3 (ipykernel)",
   "language": "python",
   "name": "python3"
  },
  "language_info": {
   "codemirror_mode": {
    "name": "ipython",
    "version": 3
   },
   "file_extension": ".py",
   "mimetype": "text/x-python",
   "name": "python",
   "nbconvert_exporter": "python",
   "pygments_lexer": "ipython3",
   "version": "3.9.13"
  }
 },
 "nbformat": 4,
 "nbformat_minor": 5
}
